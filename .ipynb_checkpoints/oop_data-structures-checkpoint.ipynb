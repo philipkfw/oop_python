{
 "cells": [
  {
   "cell_type": "markdown",
   "id": "f88cec50-9d3b-475d-b9e8-52643c8f095e",
   "metadata": {},
   "source": [
    "## Python OOP - Data Structures \n",
    "- Owner: Philip Wong"
   ]
  },
  {
   "cell_type": "markdown",
   "id": "731254ee-0949-4cb6-a380-b19099b59f5f",
   "metadata": {},
   "source": [
    "#### [1] Lists (mutable)"
   ]
  },
  {
   "cell_type": "code",
   "execution_count": 1,
   "id": "70e46b3a-d90a-4af3-b9e3-98eab243d4e4",
   "metadata": {},
   "outputs": [
    {
     "name": "stdout",
     "output_type": "stream",
     "text": [
      "<class 'list'>\n"
     ]
    }
   ],
   "source": [
    "# sample list\n",
    "courses = ['History', 'Math', 'Physics', 'CompSci']\n",
    "print(type(courses))"
   ]
  },
  {
   "cell_type": "code",
   "execution_count": 2,
   "id": "0acf82cc-fbc5-410e-a3b6-a614f54bf719",
   "metadata": {},
   "outputs": [
    {
     "name": "stdout",
     "output_type": "stream",
     "text": [
      "['Physics', 'CompSci']\n"
     ]
    }
   ],
   "source": [
    "# specify location based on index\n",
    "print(courses[-2:])"
   ]
  },
  {
   "cell_type": "code",
   "execution_count": 3,
   "id": "1e594785-f690-471a-b718-5c846ac1ee66",
   "metadata": {},
   "outputs": [
    {
     "name": "stdout",
     "output_type": "stream",
     "text": [
      "['History', 'Math', 'Physics', 'CompSci', 'Art']\n"
     ]
    }
   ],
   "source": [
    "# to add an item to our list\n",
    "courses.append('Art')\n",
    "print(courses)"
   ]
  },
  {
   "cell_type": "code",
   "execution_count": 4,
   "id": "cb11afd1-3b20-4c46-a504-abbe9b464f9c",
   "metadata": {},
   "outputs": [
    {
     "name": "stdout",
     "output_type": "stream",
     "text": [
      "['History', 'Math', 'Physics', 'CompSci', 'Art', 'Education', 'Gym']\n"
     ]
    }
   ],
   "source": [
    "# to add an entire list to our existing list\n",
    "courses_2 = ['Education', 'Gym']\n",
    "courses.extend(courses_2)\n",
    "print(courses)"
   ]
  },
  {
   "cell_type": "code",
   "execution_count": 5,
   "id": "df9ff8ae-1c1a-45ca-b925-92b5e18ceacc",
   "metadata": {},
   "outputs": [
    {
     "name": "stdout",
     "output_type": "stream",
     "text": [
      "['Math', 'Physics', 'CompSci', 'Art', 'Education', 'Gym']\n"
     ]
    }
   ],
   "source": [
    "# to remove an item from a list\n",
    "courses.remove('History')\n",
    "print(courses)"
   ]
  },
  {
   "cell_type": "code",
   "execution_count": 6,
   "id": "e30c8d97-b3bd-4813-b661-264182f25d08",
   "metadata": {},
   "outputs": [
    {
     "name": "stdout",
     "output_type": "stream",
     "text": [
      "['Art', 'CompSci', 'Education', 'Gym', 'Math', 'Physics']\n"
     ]
    }
   ],
   "source": [
    "# sorting our list by ascending order\n",
    "courses.sort()\n",
    "\n",
    "# to sort our list without altering the original\n",
    "sorted_list = sorted(courses)\n",
    "print(sorted_list)"
   ]
  },
  {
   "cell_type": "code",
   "execution_count": 7,
   "id": "c3234fea-9e3c-44bc-94a6-1aba255def35",
   "metadata": {},
   "outputs": [
    {
     "name": "stdout",
     "output_type": "stream",
     "text": [
      "1\n",
      "10\n",
      "34\n"
     ]
    }
   ],
   "source": [
    "# min, max, sum\n",
    "nums = [1, 3, 5, 6, 10, 9]\n",
    "print(min(nums))\n",
    "print(max(nums))\n",
    "print(sum(nums))"
   ]
  },
  {
   "cell_type": "code",
   "execution_count": 8,
   "id": "c6518373-af5b-4bea-8379-3002d9dbb14d",
   "metadata": {},
   "outputs": [
    {
     "name": "stdout",
     "output_type": "stream",
     "text": [
      "3\n"
     ]
    }
   ],
   "source": [
    "# to find the index\n",
    "print(courses.index('Gym'))"
   ]
  },
  {
   "cell_type": "code",
   "execution_count": 9,
   "id": "4404bb36-1fb7-4bc3-ac05-4c3a4a2c3a62",
   "metadata": {},
   "outputs": [
    {
     "name": "stdout",
     "output_type": "stream",
     "text": [
      "Art, CompSci, Education, Gym, Math, Physics\n"
     ]
    }
   ],
   "source": [
    "# including a delimiter within a list\n",
    "course_str = ', '.join(courses)\n",
    "print(course_str)"
   ]
  },
  {
   "cell_type": "markdown",
   "id": "a3271836-10db-41a1-8f1a-2bfb3c2c1ae0",
   "metadata": {},
   "source": [
    "#### [2] Tuples (immutable)"
   ]
  },
  {
   "cell_type": "code",
   "execution_count": 10,
   "id": "9113c9e7-3d76-4254-b7ce-082f9a2a3f0b",
   "metadata": {},
   "outputs": [
    {
     "name": "stdout",
     "output_type": "stream",
     "text": [
      "<class 'tuple'>\n"
     ]
    }
   ],
   "source": [
    "tuple_1 = ('History', 'Art', 'Math') \n",
    "print(type(tuple_1))"
   ]
  },
  {
   "cell_type": "markdown",
   "id": "197a6c60-526b-4d1a-91d9-c1bb9826b79e",
   "metadata": {},
   "source": [
    "#### [3] Sets (unordered and with zero duplicate values)"
   ]
  },
  {
   "cell_type": "code",
   "execution_count": 11,
   "id": "1c2ce5ea-88f5-472e-85ff-3ea81f69f4a8",
   "metadata": {},
   "outputs": [
    {
     "name": "stdout",
     "output_type": "stream",
     "text": [
      "{'Physics', 'CompSci', 'Math', 'History'}\n"
     ]
    }
   ],
   "source": [
    "# let's create a set with braces\n",
    "# includes 3 'Math' courses within our set\n",
    "cs_courses = {'History', 'Math', 'Physics', 'CompSci', 'Math', 'Math'}\n",
    "print(cs_courses)"
   ]
  },
  {
   "cell_type": "markdown",
   "id": "8311c3b1-440a-449a-a9c5-8d6e0aae0e94",
   "metadata": {},
   "source": [
    "#### [4] Dictionaries"
   ]
  },
  {
   "cell_type": "code",
   "execution_count": 12,
   "id": "3f00a408-07a3-4b9f-8c36-2ede870c6162",
   "metadata": {},
   "outputs": [
    {
     "name": "stdout",
     "output_type": "stream",
     "text": [
      "<class 'dict'>\n"
     ]
    }
   ],
   "source": [
    "# let's create our own dictionary object\n",
    "post = {\n",
    "    'user_id':209,\n",
    "    'message':'Hello!',\n",
    "    'language':'English'}\n",
    "print(type(post))"
   ]
  },
  {
   "cell_type": "code",
   "execution_count": 13,
   "id": "bd1a7ad4-994f-4263-b17b-396f9d173135",
   "metadata": {},
   "outputs": [
    {
     "name": "stdout",
     "output_type": "stream",
     "text": [
      "{'user_id': 209, 'message': 'Hello!', 'language': 'English', 'year': 2022}\n"
     ]
    }
   ],
   "source": [
    "# adding a new value key\n",
    "post['year'] = 2022\n",
    "print(post)"
   ]
  },
  {
   "cell_type": "code",
   "execution_count": 14,
   "id": "515b2bb6-c597-437a-a263-03aaa7554e40",
   "metadata": {},
   "outputs": [
    {
     "name": "stdout",
     "output_type": "stream",
     "text": [
      "English\n"
     ]
    }
   ],
   "source": [
    "# capturing dictionary value by specifying the value key\n",
    "print(post.get('language'))"
   ]
  },
  {
   "cell_type": "code",
   "execution_count": 15,
   "id": "cfcaaa49-d9ca-4134-a08a-cc5413da8f4b",
   "metadata": {},
   "outputs": [
    {
     "name": "stdout",
     "output_type": "stream",
     "text": [
      "None does not exist\n"
     ]
    }
   ],
   "source": [
    "# if value key doesn't exist - output another value\n",
    "print(post.get('age'), 'does not exist')"
   ]
  },
  {
   "cell_type": "markdown",
   "id": "88f3cf20-6efd-42cf-96d9-922df1afb5ac",
   "metadata": {},
   "source": [
    "#### Creating a dataframe using lists"
   ]
  },
  {
   "cell_type": "code",
   "execution_count": 16,
   "id": "df40540c-ec92-4114-b622-014a6866410c",
   "metadata": {},
   "outputs": [
    {
     "data": {
      "text/html": [
       "<div>\n",
       "<style scoped>\n",
       "    .dataframe tbody tr th:only-of-type {\n",
       "        vertical-align: middle;\n",
       "    }\n",
       "\n",
       "    .dataframe tbody tr th {\n",
       "        vertical-align: top;\n",
       "    }\n",
       "\n",
       "    .dataframe thead th {\n",
       "        text-align: right;\n",
       "    }\n",
       "</style>\n",
       "<table border=\"1\" class=\"dataframe\">\n",
       "  <thead>\n",
       "    <tr style=\"text-align: right;\">\n",
       "      <th></th>\n",
       "      <th>ID</th>\n",
       "      <th>Company</th>\n",
       "      <th>Number_of_Employees</th>\n",
       "    </tr>\n",
       "  </thead>\n",
       "  <tbody>\n",
       "    <tr>\n",
       "      <th>0</th>\n",
       "      <td>1</td>\n",
       "      <td>Tesla</td>\n",
       "      <td>10000</td>\n",
       "    </tr>\n",
       "    <tr>\n",
       "      <th>1</th>\n",
       "      <td>2</td>\n",
       "      <td>Honda</td>\n",
       "      <td>100000</td>\n",
       "    </tr>\n",
       "    <tr>\n",
       "      <th>2</th>\n",
       "      <td>3</td>\n",
       "      <td>Toyota</td>\n",
       "      <td>500000</td>\n",
       "    </tr>\n",
       "    <tr>\n",
       "      <th>3</th>\n",
       "      <td>4</td>\n",
       "      <td>Subaru</td>\n",
       "      <td>20000</td>\n",
       "    </tr>\n",
       "    <tr>\n",
       "      <th>4</th>\n",
       "      <td>5</td>\n",
       "      <td>Nissan</td>\n",
       "      <td>6000</td>\n",
       "    </tr>\n",
       "  </tbody>\n",
       "</table>\n",
       "</div>"
      ],
      "text/plain": [
       "   ID Company  Number_of_Employees\n",
       "0   1   Tesla                10000\n",
       "1   2   Honda               100000\n",
       "2   3  Toyota               500000\n",
       "3   4  Subaru                20000\n",
       "4   5  Nissan                 6000"
      ]
     },
     "execution_count": 16,
     "metadata": {},
     "output_type": "execute_result"
    }
   ],
   "source": [
    "# specify lists\n",
    "ID = [1, 2, 3, 4, 5, 6]\n",
    "Company = ['Tesla', 'Honda', 'Toyota', 'Subaru', 'Nissan', 'Ford']\n",
    "Employee_Count = [10000, 100000, 500000, 20000, 6000, 900000]\n",
    "\n",
    "# creating a dataframe based on 3 different lists\n",
    "import pandas as pd\n",
    "df = pd.DataFrame({\n",
    "    'ID': ID,\n",
    "    'Company': Company,\n",
    "    'Number_of_Employees': Employee_Count\n",
    "})\n",
    "df.head()"
   ]
  }
 ],
 "metadata": {
  "kernelspec": {
   "display_name": "Python 3 (ipykernel)",
   "language": "python",
   "name": "python3"
  },
  "language_info": {
   "codemirror_mode": {
    "name": "ipython",
    "version": 3
   },
   "file_extension": ".py",
   "mimetype": "text/x-python",
   "name": "python",
   "nbconvert_exporter": "python",
   "pygments_lexer": "ipython3",
   "version": "3.9.7"
  }
 },
 "nbformat": 4,
 "nbformat_minor": 5
}
