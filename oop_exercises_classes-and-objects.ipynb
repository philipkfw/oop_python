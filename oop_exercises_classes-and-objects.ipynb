{
 "cells": [
  {
   "cell_type": "markdown",
   "id": "d0e40d58-da09-4996-b18a-1ceb1f7e3cd3",
   "metadata": {},
   "source": [
    "## Python OOP Exercises - Classes & Objects \n",
    "- Based on the questions provided here -> https://bit.ly/3yWXmTv"
   ]
  },
  {
   "cell_type": "markdown",
   "id": "eefa302f-1513-4b69-a853-d0529f628a6d",
   "metadata": {},
   "source": [
    "#### [Q1] Write a Python program to create a Vehicle class with max_speed and mileage instance attributes."
   ]
  },
  {
   "cell_type": "code",
   "execution_count": 1,
   "id": "a3e8f842-f096-4c26-98f1-03487fffeac7",
   "metadata": {},
   "outputs": [
    {
     "name": "stdout",
     "output_type": "stream",
     "text": [
      "Our vehicle's maximum speed is 250000 km per hour with current mileage of 30000 km.\n"
     ]
    }
   ],
   "source": [
    "# create class 'Vehicle'\n",
    "class Vehicle:\n",
    "    def __init__(self, max_speed, mileage):\n",
    "        self.max_speed = max_speed\n",
    "        self.mileage = mileage\n",
    "\n",
    "# create an instance of our class named 'car_1' \n",
    "car_1 = Vehicle(250000, 30000)\n",
    "print(\"Our vehicle's maximum speed is \" + str(car_1.max_speed) + \" km per hour with current mileage of \" + str(car_1.mileage) + \" km.\")"
   ]
  },
  {
   "cell_type": "markdown",
   "id": "83da7c19-f86a-45a1-8d72-39ffa68175a4",
   "metadata": {},
   "source": [
    "#### [Q2] Create a Vehicle class without any variables and methods."
   ]
  },
  {
   "cell_type": "code",
   "execution_count": 2,
   "id": "3186b10e-9e89-4dc4-a928-297f0c80d13f",
   "metadata": {},
   "outputs": [],
   "source": [
    "class Vehicle:\n",
    "    pass"
   ]
  },
  {
   "cell_type": "markdown",
   "id": "1a5115df-3e6f-4208-bdd6-c712e9cd5335",
   "metadata": {},
   "source": [
    "#### [Q3] Create a child class Bus that will inherit all of the variables and methods of the Vehicle class."
   ]
  },
  {
   "cell_type": "code",
   "execution_count": 3,
   "id": "4e0ef46a-3f42-4342-ace9-372f8920dea9",
   "metadata": {},
   "outputs": [
    {
     "name": "stdout",
     "output_type": "stream",
     "text": [
      "Our school bus performs a maximum speed of 120000 km/hr, with a current mileage of 10000 km, and a total of 30 seats.\n"
     ]
    }
   ],
   "source": [
    "# create class 'Vehicle'\n",
    "class Vehicle:\n",
    "    def __init__(self, max_speed, mileage):\n",
    "        self.max_speed = max_speed\n",
    "        self.mileage = mileage\n",
    "\n",
    "# create a child class 'Bus' based on our initial class 'Vehicle'\n",
    "class Bus(Vehicle):\n",
    "    # define initialization function\n",
    "    def __init__(self, max_speed, mileage, seat_count):\n",
    "        # this provides the inheritance of 'Vehicle' via the super method\n",
    "        super().__init__(max_speed, mileage)\n",
    "        self.seat_count = seat_count\n",
    "\n",
    "# let's test it out by creating an instance of our child class 'Bus' \n",
    "school_bus = Bus(120000, 10000, 30)\n",
    "print(\"Our school bus performs a maximum speed of \" + \n",
    "      str(school_bus.max_speed) + \n",
    "      \" km/hr, with a current mileage of \" + \n",
    "      str(school_bus.mileage) +\n",
    "     \" km, and a total of \" +\n",
    "      str(school_bus.seat_count) + \" seats.\")"
   ]
  },
  {
   "cell_type": "markdown",
   "id": "21b48b01-3f30-42bd-b8de-3c7819f70df6",
   "metadata": {},
   "source": [
    "#### [Q4] Create a Bus class that inherits from the Vehicle class. Give the capacity argument of Bus.seating_capacity() a default value of 50."
   ]
  },
  {
   "cell_type": "code",
   "execution_count": 4,
   "id": "dc5614b0-4ec7-4983-a08e-f27d316b568c",
   "metadata": {},
   "outputs": [
    {
     "name": "stdout",
     "output_type": "stream",
     "text": [
      "The seating capacity of a school bus is 50 passengers.\n"
     ]
    }
   ],
   "source": [
    "# parent class 'Vehicle'\n",
    "class Vehicle:\n",
    "    def __init__(self, name, max_speed, mileage):\n",
    "        self.name = name\n",
    "        self.max_speed = max_speed\n",
    "        self.mileage = mileage\n",
    "\n",
    "    def seating_capacity(self, capacity):\n",
    "        return f\"The seating capacity of a {self.name} is {capacity} passengers.\"\n",
    "\n",
    "# child class 'Bus'\n",
    "class Bus(Vehicle):\n",
    "    def __init__(self, name, max_speed, mileage):\n",
    "        super().__init__(name, max_speed, mileage)\n",
    "    \n",
    "    def seating_capacity(self, capacity=50):\n",
    "        return super().seating_capacity(capacity=50)\n",
    "\n",
    "# let's test it out!\n",
    "school_bus = Bus('school bus', 120000, 10000)\n",
    "print(school_bus.seating_capacity())"
   ]
  },
  {
   "cell_type": "markdown",
   "id": "fbbcb879-533f-405f-bc18-53f3a3c617f2",
   "metadata": {},
   "source": [
    "#### [Q5] Define a property that must have the same value for every class instance (object).\n",
    "- Define a class attribute ”color” with a default value white. I.e., Every Vehicle should be white."
   ]
  },
  {
   "cell_type": "code",
   "execution_count": 5,
   "id": "143643ed-d3b3-4597-b0b6-0f247ea4ead3",
   "metadata": {},
   "outputs": [
    {
     "name": "stdout",
     "output_type": "stream",
     "text": [
      "White\n"
     ]
    }
   ],
   "source": [
    "# Variables created in .__init__() are called instance variables. \n",
    "# An instance variable’s value is specific to a particular instance of the class. \n",
    "# For example, in the solution, All Vehicle objects have a name and a max_speed, \n",
    "# but the name and max_speed variables’ values will vary depending on the Vehicle instance.\n",
    "# On the other hand, the class variable is shared between all class instances. \n",
    "# You can define a class attribute by assigning a value to a variable name outside of .__init__().\n",
    "\n",
    "class Vehicle:\n",
    "    color = 'White'\n",
    "    def __init__(self, name, max_speed, mileage):\n",
    "        self.name = name\n",
    "        self.max_speed = max_speed\n",
    "        self.mileage = mileage\n",
    "\n",
    "class Bus(Vehicle):\n",
    "    pass\n",
    "\n",
    "class Car(Vehicle):\n",
    "    pass\n",
    "\n",
    "school_bus = Bus('school bus', 110000, 10000)\n",
    "print(school_bus.color)"
   ]
  },
  {
   "cell_type": "markdown",
   "id": "e227ebce-38af-4652-af79-215d1018649a",
   "metadata": {},
   "source": [
    "#### [Q6] Class Inheritance.\n",
    "- Create a Bus child class that inherits from the Vehicle class. The default fare charge of any vehicle is seating capacity * 100. \n",
    "- If Vehicle is Bus instance, we need to add an extra 10% on full fare as a maintenance charge. \n",
    "- So total fare for bus instance will become the final amount = total fare + 10% of the total fare.\n",
    "- Note: The bus seating capacity is 50. so the final fare amount should be 5500. You need to override the fare() method of a Vehicle class in Bus class."
   ]
  },
  {
   "cell_type": "code",
   "execution_count": 6,
   "id": "3428798f-b3df-46a6-be12-3ff71bd77f41",
   "metadata": {},
   "outputs": [
    {
     "name": "stdout",
     "output_type": "stream",
     "text": [
      "Total Bus fare is: 5500.0\n"
     ]
    }
   ],
   "source": [
    "class Vehicle:\n",
    "    def __init__(self, name, mileage, capacity):\n",
    "        self.name = name\n",
    "        self.mileage = mileage\n",
    "        self.capacity = capacity\n",
    "\n",
    "    def fare(self):\n",
    "        return self.capacity * 100\n",
    "\n",
    "class Bus(Vehicle):\n",
    "    def fare(self):\n",
    "        return super().fare() * 1.1\n",
    "\n",
    "School_bus = Bus(\"School Volvo\", 12, 50)\n",
    "print(\"Total Bus fare is:\", School_bus.fare())"
   ]
  },
  {
   "cell_type": "markdown",
   "id": "0f5c1de3-2414-4e9f-8eed-0a0659964d6c",
   "metadata": {},
   "source": [
    "#### [Q7] Check type of an object.\n",
    "- Write a program to determine which class a given Bus object belongs to."
   ]
  },
  {
   "cell_type": "code",
   "execution_count": 7,
   "id": "a872fc6c-7799-4ed2-ab33-0d2cfd12c57c",
   "metadata": {},
   "outputs": [
    {
     "name": "stdout",
     "output_type": "stream",
     "text": [
      "<class '__main__.Bus'>\n"
     ]
    }
   ],
   "source": [
    "class Vehicle:\n",
    "    def __init__(self, name, mileage, capacity):\n",
    "        self.name = name\n",
    "        self.mileage = mileage\n",
    "        self.capacity = capacity\n",
    "\n",
    "class Bus(Vehicle):\n",
    "    pass\n",
    "\n",
    "School_bus = Bus(\"School Volvo\", 12, 50)\n",
    "\n",
    "# Python's built-in type()\n",
    "print(type(School_bus))"
   ]
  },
  {
   "cell_type": "markdown",
   "id": "dd1eac47-a202-4d62-a899-02ab1f99ce5d",
   "metadata": {},
   "source": [
    "#### [Q8] Determine if School_bus is also an instance of the Vehicle class."
   ]
  },
  {
   "cell_type": "code",
   "execution_count": 8,
   "id": "8a201c4a-c9e9-4d0b-9f43-ad9050fb3eaf",
   "metadata": {},
   "outputs": [
    {
     "name": "stdout",
     "output_type": "stream",
     "text": [
      "True\n"
     ]
    }
   ],
   "source": [
    "class Vehicle:\n",
    "    def __init__(self, name, mileage, capacity):\n",
    "        self.name = name\n",
    "        self.mileage = mileage\n",
    "        self.capacity = capacity\n",
    "\n",
    "class Bus(Vehicle):\n",
    "    pass\n",
    "\n",
    "School_bus = Bus(\"School Volvo\", 12, 50)\n",
    "\n",
    "# Python's built-in isinstance() function\n",
    "print(isinstance(School_bus, Vehicle))"
   ]
  }
 ],
 "metadata": {
  "kernelspec": {
   "display_name": "Python 3 (ipykernel)",
   "language": "python",
   "name": "python3"
  },
  "language_info": {
   "codemirror_mode": {
    "name": "ipython",
    "version": 3
   },
   "file_extension": ".py",
   "mimetype": "text/x-python",
   "name": "python",
   "nbconvert_exporter": "python",
   "pygments_lexer": "ipython3",
   "version": "3.9.7"
  }
 },
 "nbformat": 4,
 "nbformat_minor": 5
}
